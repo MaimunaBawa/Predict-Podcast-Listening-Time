{
 "cells": [
  {
   "cell_type": "markdown",
   "metadata": {},
   "source": [
    "### **Initial Research**\n",
    "\n",
    "\n",
    "**During my initial exploration of the Titanic dataset, I focused on understanding the available features and their meanings. I also reviewed previous**\n",
    " \n",
    "**analyses conducted by others to gain insight into their approaches and outcomes. Particular attention was given to strategies for handling missing or null**\n",
    "\n",
    " **values, including whether to remove incomplete entries or apply imputation techniques to preserve the dataset's integrity.**"
   ]
  },
  {
   "cell_type": "markdown",
   "metadata": {},
   "source": []
  }
 ],
 "metadata": {
  "language_info": {
   "name": "python"
  }
 },
 "nbformat": 4,
 "nbformat_minor": 2
}
